{
 "cells": [
  {
   "cell_type": "code",
   "execution_count": null,
   "metadata": {},
   "outputs": [],
   "source": []
  },
  {
   "cell_type": "code",
   "execution_count": 6,
   "metadata": {},
   "outputs": [
    {
     "name": "stdin",
     "output_type": "stream",
     "text": [
      "How many family members will you be entering? (up to 5) 5\n",
      "Enter a name:  a\n",
      "How old is this person? a\n",
      "What is their favorite hobby? a\n"
     ]
    },
    {
     "name": "stdout",
     "output_type": "stream",
     "text": [
      "You entered: a, age a, whose favorite hobby is a\n",
      "\n"
     ]
    },
    {
     "name": "stdin",
     "output_type": "stream",
     "text": [
      "Enter a name:  a\n",
      "How old is this person? a\n",
      "What is their favorite hobby? a\n"
     ]
    },
    {
     "name": "stdout",
     "output_type": "stream",
     "text": [
      "You entered: a, age a, whose favorite hobby is a\n",
      "\n"
     ]
    },
    {
     "name": "stdin",
     "output_type": "stream",
     "text": [
      "Enter a name:  a\n",
      "How old is this person? a\n",
      "What is their favorite hobby? a\n"
     ]
    },
    {
     "name": "stdout",
     "output_type": "stream",
     "text": [
      "You entered: a, age a, whose favorite hobby is a\n",
      "\n"
     ]
    },
    {
     "name": "stdin",
     "output_type": "stream",
     "text": [
      "Enter a name:  a\n",
      "How old is this person? a\n",
      "What is their favorite hobby? a\n"
     ]
    },
    {
     "name": "stdout",
     "output_type": "stream",
     "text": [
      "You entered: a, age a, whose favorite hobby is a\n",
      "\n"
     ]
    },
    {
     "name": "stdin",
     "output_type": "stream",
     "text": [
      "Enter a name:  \n",
      "How old is this person? a\n",
      "What is their favorite hobby? a\n"
     ]
    },
    {
     "name": "stdout",
     "output_type": "stream",
     "text": [
      "You entered: , age a, whose favorite hobby is a\n",
      "\n",
      "\n",
      "Listing family members...\n",
      "Person 1\n",
      "Name: a\n",
      "Age: a\n",
      "Hobby: a\n",
      "\n",
      "Person 2\n",
      "Name: a\n",
      "Age: a\n",
      "Hobby: a\n",
      "\n",
      "Person 3\n",
      "Name: a\n",
      "Age: a\n",
      "Hobby: a\n",
      "\n",
      "Person 4\n",
      "Name: a\n",
      "Age: a\n",
      "Hobby: a\n",
      "\n",
      "Person 5\n",
      "Name: \n",
      "Age: a\n",
      "Hobby: a\n",
      "\n"
     ]
    }
   ],
   "source": [
    "#ask the user for an integer input for how many family members they will add to the 'database'\n",
    "count = int(input(prompt=\"How many family members will you be entering? (up to 5)\"))\n",
    "\n",
    "#make a dictionary for name and age\n",
    "namedict = {'person1': '',\n",
    "            'person2': '',\n",
    "            'person3': '',\n",
    "            'person4': '',\n",
    "            'person5': ''}\n",
    "agedict = {'person1': 0,\n",
    "           'person2': 0,\n",
    "           'person3': 0,\n",
    "           'person4': 0,\n",
    "           'person5': 0}\n",
    "hobbydict = {'person1': '',\n",
    "             'person2': '',\n",
    "             'person3': '',\n",
    "             'person4': '',\n",
    "             'person5': ''}\n",
    "\n",
    "if count > 5:\n",
    "    print(\"You can not enter more than 5 people. Please try again.\")\n",
    "\n",
    "else:\n",
    "    \n",
    "    x = 1\n",
    "\n",
    "    while (x <= count):\n",
    "        xstr = str(x) \n",
    "        dictkey = \"person\" + xstr\n",
    "        \n",
    "        name = input(prompt=\"Enter a name: \")\n",
    "        namedict[dictkey] = name\n",
    "    \n",
    "        age = input(prompt=\"How old is this person?\")\n",
    "        agedict[dictkey] = age\n",
    "        \n",
    "        hobby = input(prompt=\"What is their favorite hobby?\")\n",
    "        hobbydict[dictkey] = hobby\n",
    "        \n",
    "        summary = \"You entered: {0}, age {1}, whose favorite hobby is {2}\".format(name, age, hobby)\n",
    "        print(summary)\n",
    "        print(\"\")\n",
    "        x += 1\n",
    "    \n",
    "    print(\"\")\n",
    "    i = 1\n",
    "    print(\"Listing family members...\")\n",
    "\n",
    "    while (i <= count):\n",
    "        istr = str(i)\n",
    "        dictkey = \"person\" + istr\n",
    "        \n",
    "        \n",
    "        print(\"Person {0}\".format(istr))\n",
    "\n",
    "        print(\"Name: {0}\".format(namedict[dictkey]))\n",
    "        print(\"Age: {0}\".format(agedict[dictkey]))\n",
    "        print(\"Hobby: {0}\".format(hobbydict[dictkey]))\n",
    "    \n",
    "        print(\"\")\n",
    "        i += 1\n",
    "\n"
   ]
  },
  {
   "cell_type": "code",
   "execution_count": null,
   "metadata": {},
   "outputs": [],
   "source": [
    "#ignore this, it is just the code from Lab-5, way too simple\n",
    "name = input(prompt=\"Enter your name: \")\n",
    "print(\"Hi,\",name + \"!\")\n",
    "count = int(input(prompt=\"Enter a number: \"))\n",
    "\n",
    "\n",
    "i = 1\n",
    "\n",
    "while i <= count:\n",
    "    print(\"Hi, \" + name + \" #\" + str(i))\n",
    "    i += 1\n",
    "\n"
   ]
  }
 ],
 "metadata": {
  "kernelspec": {
   "display_name": "Python 3",
   "language": "python",
   "name": "python3"
  },
  "language_info": {
   "codemirror_mode": {
    "name": "ipython",
    "version": 3
   },
   "file_extension": ".py",
   "mimetype": "text/x-python",
   "name": "python",
   "nbconvert_exporter": "python",
   "pygments_lexer": "ipython3",
   "version": "3.8.5"
  }
 },
 "nbformat": 4,
 "nbformat_minor": 5
}
